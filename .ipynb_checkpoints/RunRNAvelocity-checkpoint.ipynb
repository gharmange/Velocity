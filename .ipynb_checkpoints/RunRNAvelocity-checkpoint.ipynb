{
 "cells": [
  {
   "cell_type": "markdown",
   "metadata": {},
   "source": [
    "Check if you are in the right environment"
   ]
  },
  {
   "cell_type": "code",
   "execution_count": null,
   "metadata": {
    "scrolled": true
   },
   "outputs": [],
   "source": [
    "# ! at start of line means its running interminal (bash) not python\n",
    "!conda env list\n",
    "# you shoud see a * next to velocityenv"
   ]
  },
  {
   "cell_type": "markdown",
   "metadata": {},
   "source": [
    "Set paths to the required fiels described in the README"
   ]
  },
  {
   "cell_type": "code",
   "execution_count": null,
   "metadata": {},
   "outputs": [],
   "source": [
    "# we will set variables in this box\n",
    "# %env at start of lines saves the variable to the environment\n",
    "#path to 10x run folder\n",
    "%env tx=./Desktop/20201110_10x2_WM983B_NoDrug_seq1/10X2_seq1_NoDrugWM983B_count/\n",
    "#path to cellranger reference genome (can find them here: https://support.10xgenomics.com/single-cell-gene-expression/software/downloads/latest)\n",
    "%env rgen=./Desktop/velocity_files/genes.gtf\n",
    "#path to repeat masker in GTF format (can find here: https://genome.ucsc.edu/cgi-bin/hgTables?hgsid=611454127_NtvlaW6xBSIRYJEBI0iRDEWisITa&clade=mammal&org=Human&db=0&hgta_group=allTracks&hgta_track=rmsk&hgta_table=rmsk&hgta_regionType=genome&position=&hgta_outputType=gff&hgta_outFileName=mm10_rmsk.gtf)\n",
    "%env rpmsk=./Desktop/velocity_files/h38_rmsk.gtf\n",
    "\n",
    "# if you have any \"permission denied\" error just go in the terminal activate the environment and use the chmod -R 775 <path to folder>\n",
    "# for example: chmod -R 775 ./Desktop/20201110_10x2_WM983B_NoDrug_seq1/10X2_seq1_NoDrugWM983B_count/\n"
   ]
  },
  {
   "cell_type": "markdown",
   "metadata": {},
   "source": [
    "Sort bam file using samtools"
   ]
  },
  {
   "cell_type": "code",
   "execution_count": null,
   "metadata": {},
   "outputs": [],
   "source": [
    "#this creates a new sorted bam file named \"cellsorted_possorted_genome_bam.bam\" in the outs folder of 10x\n",
    "!samtools sort -t CB -O BAM -m 5G -@ 4 -o $tx/outs/cellsorted_possorted_genome_bam.bam $tx/outs/possorted_genome_bam.bam"
   ]
  },
  {
   "cell_type": "markdown",
   "metadata": {},
   "source": [
    "Run velocyto to get .loom file of exon and intron reads"
   ]
  },
  {
   "cell_type": "code",
   "execution_count": null,
   "metadata": {},
   "outputs": [],
   "source": [
    "!velocyto run10x -m $rpmsk $tx $rgen\n",
    "#after this is done running move to R if you did pre-processing using Seurat"
   ]
  },
  {
   "cell_type": "markdown",
   "metadata": {},
   "source": [
    "Import packages and set scvelo settings"
   ]
  },
  {
   "cell_type": "code",
   "execution_count": null,
   "metadata": {},
   "outputs": [],
   "source": [
    "#If loom file is already made start here\n",
    "import scvelo as scv\n",
    "import numpy as np\n",
    "import matplotlib as plt\n",
    "import os\n",
    "scv.settings.verbosity = 3  # show errors(0), warnings(1), info(2), hints(3)\n",
    "scv.settings.presenter_view = True  # set max width size for presenter view\n",
    "scv.set_figure_params('scvelo')"
   ]
  },
  {
   "cell_type": "markdown",
   "metadata": {},
   "source": [
    "Load .h5ad file created in R"
   ]
  },
  {
   "cell_type": "code",
   "execution_count": null,
   "metadata": {},
   "outputs": [],
   "source": [
    "#load loom file\n",
    "#load path vraible into python\n",
    "ptx=os.environ.get('tx') + '/velocyto/SeuratProcessed.h5ad'\n",
    "adata = scv.read(ptx)\n",
    "adata"
   ]
  },
  {
   "cell_type": "markdown",
   "metadata": {},
   "source": [
    "Run all following block of code sequentially to get velocity outputs"
   ]
  },
  {
   "cell_type": "code",
   "execution_count": null,
   "metadata": {},
   "outputs": [],
   "source": [
    "#see proportion of read types\n",
    "scv.pl.proportions(adata)"
   ]
  },
  {
   "cell_type": "code",
   "execution_count": null,
   "metadata": {},
   "outputs": [],
   "source": [
    "#Basic pre-processing using values given by suerat (http://htmlpreview.github.io/?https://github.com/satijalab/seurat-wrappers/blob/master/docs/scvelo.html)\n",
    "scv.pp.filter_and_normalize(adata, min_shared_counts=20, n_top_genes=2000)\n",
    "scv.pp.moments(adata, n_pcs=30, n_neighbors=30)"
   ]
  },
  {
   "cell_type": "code",
   "execution_count": null,
   "metadata": {},
   "outputs": [],
   "source": [
    "#calculate velocities\n",
    "scv.tl.velocity(adata)\n",
    "scv.tl.velocity_graph(adata)"
   ]
  },
  {
   "cell_type": "code",
   "execution_count": null,
   "metadata": {},
   "outputs": [],
   "source": [
    "#visualize velocity (look at website for all options)\n",
    "scv.pl.velocity_embedding_stream(adata, basis='umap', color=\"Phase\",figsize= (12,8))\n",
    "scv.pl.velocity_embedding(adata, basis='umap', color=\"seurat_clusters\",arrow_length=6, arrow_size=8, dpi=120,figsize= (12,8))\n",
    "scv.pl.velocity(adata,[\"FN1\",\"AXL\"], color = \"seurat_clusters\",ncols=1, basis = \"umap\", figsize= (24,16), size= 100)"
   ]
  },
  {
   "cell_type": "markdown",
   "metadata": {},
   "source": [
    "At this point it should be straightforward to exectue any analysis described by scvelo here:https://scvelo.readthedocs.io/getting_started.html"
   ]
  }
 ],
 "metadata": {
  "kernelspec": {
   "display_name": "Python 3",
   "language": "python",
   "name": "python3"
  },
  "language_info": {
   "codemirror_mode": {
    "name": "ipython",
    "version": 3
   },
   "file_extension": ".py",
   "mimetype": "text/x-python",
   "name": "python",
   "nbconvert_exporter": "python",
   "pygments_lexer": "ipython3",
   "version": "3.7.6"
  }
 },
 "nbformat": 4,
 "nbformat_minor": 2
}
